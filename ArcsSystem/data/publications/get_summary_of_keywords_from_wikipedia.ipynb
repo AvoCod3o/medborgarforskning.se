{
 "cells": [
  {
   "cell_type": "code",
   "execution_count": 2,
   "metadata": {},
   "outputs": [],
   "source": [
    "import wikipedia\n",
    "import csv\n",
    "from xml.sax.saxutils import escape"
   ]
  },
  {
   "cell_type": "code",
   "execution_count": 6,
   "metadata": {},
   "outputs": [
    {
     "name": "stdout",
     "output_type": "stream",
     "text": [
      "7459\n"
     ]
    }
   ],
   "source": [
    "def parsecsv():\n",
    "    with open('ARCSLiterature.csv', 'r') as thefile:\n",
    "        data = csv.DictReader(thefile, delimiter=',', quotechar='\"')\n",
    "        datadict = {}\n",
    "        for row in data:\n",
    "            if escape(row['Title']) not in datadict:\n",
    "                datadict[row['Title']] = [row['Author'],\n",
    "                                                 row['Publication Year'],\n",
    "                                                 row['Publication Title'],\n",
    "                                                 row['Issue'],\n",
    "                                                 row['Volume'],\n",
    "                                                 row['DOI'],\n",
    "                                                 row['Abstract Note'],\n",
    "                                                 row['Manual Tags']\n",
    "                                          ]\n",
    "\n",
    "            else:\n",
    "                continue\n",
    "        return datadict\n",
    "\n",
    "\n",
    "keywords = []\n",
    "\n",
    "for k, v in parsecsv().items():\n",
    "    keywordlist = v[7].split(\"; \")\n",
    "    for x in keywordlist:\n",
    "        loweredkeyword = escape(x.lower())\n",
    "        if len(loweredkeyword) > 1:\n",
    "            if loweredkeyword not in keywordlist:\n",
    "                keywords.append(loweredkeyword)\n",
    "                \n",
    "print(len(keywords))\n"
   ]
  },
  {
   "cell_type": "code",
   "execution_count": 9,
   "metadata": {},
   "outputs": [
    {
     "ename": "TypeError",
     "evalue": "object of type 'int' has no len()",
     "output_type": "error",
     "traceback": [
      "\u001b[0;31m---------------------------------------------------------------------------\u001b[0m",
      "\u001b[0;31mTypeError\u001b[0m                                 Traceback (most recent call last)",
      "\u001b[0;32m<ipython-input-9-65d1ceaf2008>\u001b[0m in \u001b[0;36m<module>\u001b[0;34m\u001b[0m\n\u001b[1;32m     20\u001b[0m \u001b[0;34m\u001b[0m\u001b[0m\n\u001b[1;32m     21\u001b[0m \u001b[0;34m\u001b[0m\u001b[0m\n\u001b[0;32m---> 22\u001b[0;31m \u001b[0mprint\u001b[0m\u001b[0;34m(\u001b[0m\u001b[0;34m\"loop ended, number of keywords processed successfully: \"\u001b[0m \u001b[0;34m+\u001b[0m \u001b[0mstr\u001b[0m\u001b[0;34m(\u001b[0m\u001b[0mlen\u001b[0m\u001b[0;34m(\u001b[0m\u001b[0mcounter\u001b[0m\u001b[0;34m)\u001b[0m\u001b[0;34m)\u001b[0m\u001b[0;34m)\u001b[0m\u001b[0;34m\u001b[0m\u001b[0;34m\u001b[0m\u001b[0m\n\u001b[0m",
      "\u001b[0;31mTypeError\u001b[0m: object of type 'int' has no len()"
     ]
    }
   ],
   "source": [
    "\n",
    "counter = 1\n",
    "\n",
    "with open(\"wikipediasummaryofkeywords.csv\", \"w\") as csvfile:\n",
    "    fieldnames = ['keyword', 'summary']\n",
    "    kwriter = csv.DictWriter(csvfile, fieldnames=fieldnames)\n",
    "\n",
    "    kwriter.writeheader()\n",
    "    for k in keywords:\n",
    "        if k not in [\"newtech\", \"citizen science\", \"key paper\"]:\n",
    "            try:\n",
    "                summary = wikipedia.summary(k)\n",
    "                #print(k, str(counter))\n",
    "                counter += 1\n",
    "                #print(summary)\n",
    "                kwriter.writerow({'keyword': k, 'summary': summary})\n",
    "            except wikipedia.DisambiguationError:\n",
    "                continue\n",
    "            except wikipedia.PageError:\n",
    "                continue\n",
    "                \n",
    "                \n",
    "print(\"loop ended, number of keywords processed successfully: \" + str(counter))"
   ]
  },
  {
   "cell_type": "code",
   "execution_count": null,
   "metadata": {},
   "outputs": [],
   "source": []
  }
 ],
 "metadata": {
  "kernelspec": {
   "display_name": "Python 3",
   "language": "python",
   "name": "python3"
  }
 },
 "nbformat": 4,
 "nbformat_minor": 4
}
