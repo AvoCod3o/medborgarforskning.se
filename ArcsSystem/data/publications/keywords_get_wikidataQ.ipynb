{
 "cells": [
  {
   "cell_type": "code",
   "execution_count": 1,
   "metadata": {},
   "outputs": [
    {
     "name": "stdout",
     "output_type": "stream",
     "text": [
      "5913\n"
     ]
    }
   ],
   "source": [
    "from bs4 import BeautifulSoup\n",
    "import requests\n",
    "import sys\n",
    "import csv\n",
    "from xml.sax.saxutils import escape\n",
    "\n",
    "\n",
    "def parsecsv():\n",
    "    with open('ARCSLiterature.csv', 'r') as thefile:\n",
    "        data = csv.DictReader(thefile, delimiter=',', quotechar='\"')\n",
    "        datadict = {}\n",
    "        for row in data:\n",
    "            if escape(row['Title']) not in datadict:\n",
    "                datadict[row['Title']] = [row['Author'],\n",
    "                                                 row['Publication Year'],\n",
    "                                                 row['Publication Title'],\n",
    "                                                 row['Issue'],\n",
    "                                                 row['Volume'],\n",
    "                                                 row['DOI'],\n",
    "                                                 row['Abstract Note'],\n",
    "                                                 row['Manual Tags']\n",
    "                                          ]\n",
    "\n",
    "            else:\n",
    "                continue\n",
    "        return datadict\n",
    "\n",
    "\n",
    "keywords = []\n",
    "\n",
    "for k, v in parsecsv().items():\n",
    "    keywordlist = v[7].split(\"; \")\n",
    "    for x in keywordlist:\n",
    "        loweredkeyword = escape(x.lower())\n",
    "        if len(loweredkeyword) > 1:\n",
    "            if loweredkeyword not in keywords:\n",
    "                keywords.append(loweredkeyword)\n",
    "                \n",
    "print(len(keywords))\n",
    "\n",
    "\n",
    "\n"
   ]
  },
  {
   "cell_type": "code",
   "execution_count": 2,
   "metadata": {},
   "outputs": [],
   "source": [
    "def scrapeQ(query):\n",
    "    #query = \"american pika\"\n",
    "    getUrl= 'https://en.wikipedia.org/wiki/' + query\n",
    "    url = getUrl\n",
    "    #print(url)\n",
    "    content = requests.get(url).content\n",
    "    soup = BeautifulSoup(content,'lxml')\n",
    "    #extracting page title\n",
    "    firstHeading = soup.find('h1',{'class' : 'firstHeading'})\n",
    "\n",
    "    if \"disambiguation\" in firstHeading.text:\n",
    "        print(\"Disambiguation\")\n",
    "    else: \n",
    "\n",
    "        QNumber = soup.find('li', {'id' : 't-wikibase'})\n",
    "        if QNumber is not None:\n",
    "            #print(firstHeading.text)\n",
    "            #print(QNumber)\n",
    "            q = QNumber.a['href'].rsplit('/')[-1]\n",
    "            #print(q)\n",
    "            return (firstHeading.text.lower(), q)\n",
    "        else:\n",
    "            #print(\"Nothing found\")\n",
    "            return (firstHeading.text, None)"
   ]
  },
  {
   "cell_type": "code",
   "execution_count": 3,
   "metadata": {},
   "outputs": [
    {
     "data": {
      "text/plain": [
       "('american pika', 'Q469908')"
      ]
     },
     "execution_count": 3,
     "metadata": {},
     "output_type": "execute_result"
    }
   ],
   "source": [
    "scrapeQ(\"american pika\")"
   ]
  },
  {
   "cell_type": "code",
   "execution_count": 4,
   "metadata": {},
   "outputs": [
    {
     "name": "stdout",
     "output_type": "stream",
     "text": [
      "Disambiguation\n",
      "Disambiguation\n",
      "Disambiguation\n",
      "Disambiguation\n",
      "Disambiguation\n",
      "Disambiguation\n",
      "Disambiguation\n",
      "Scraping done.\n",
      "number of valid Qs: 2986\n",
      "number of no Qs: 2920\n"
     ]
    }
   ],
   "source": [
    "counter = 0\n",
    "nonecounter = 0\n",
    "\n",
    "\n",
    "with open(\"keyword_wikiQs.csv\", \"w\") as csvfile:\n",
    "    fieldnames = ['keyword', 'Q']\n",
    "    kwriter = csv.DictWriter(csvfile, fieldnames=fieldnames)\n",
    "    kwriter.writeheader()\n",
    "\n",
    "    for k in keywords:\n",
    "        try:\n",
    "            wikiQ = scrapeQ(k)\n",
    "            if wikiQ[1] is not None:\n",
    "                #print(wikiQ)\n",
    "                counter += 1\n",
    "                #print({'keyword': wikiQ[0], 'Q': wikiQ[1]})\n",
    "                kwriter.writerow({'keyword': wikiQ[0], 'Q': wikiQ[1]})\n",
    "            else:\n",
    "                #print(wikiQ[0], \"had no Q value.\")\n",
    "                nonecounter += 1\n",
    "        except TypeError:\n",
    "            continue\n",
    "            \n",
    "print(\"Scraping done.\")\n",
    "print(\"number of valid Qs: \" + str(counter))\n",
    "print(\"number of no Qs: \" + str(nonecounter))"
   ]
  },
  {
   "cell_type": "code",
   "execution_count": null,
   "metadata": {},
   "outputs": [],
   "source": []
  },
  {
   "cell_type": "code",
   "execution_count": null,
   "metadata": {},
   "outputs": [],
   "source": []
  },
  {
   "cell_type": "code",
   "execution_count": null,
   "metadata": {},
   "outputs": [],
   "source": []
  }
 ],
 "metadata": {
  "kernelspec": {
   "display_name": "Python 3",
   "language": "python",
   "name": "python3"
  },
  "language_info": {
   "codemirror_mode": {
    "name": "ipython",
    "version": 3
   },
   "file_extension": ".py",
   "mimetype": "text/x-python",
   "name": "python",
   "nbconvert_exporter": "python",
   "pygments_lexer": "ipython3",
   "version": "3.8.5"
  }
 },
 "nbformat": 4,
 "nbformat_minor": 4
}
