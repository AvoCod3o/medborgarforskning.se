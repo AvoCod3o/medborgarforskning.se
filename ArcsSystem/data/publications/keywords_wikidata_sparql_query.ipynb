{
 "cells": [
  {
   "cell_type": "code",
   "execution_count": 53,
   "metadata": {},
   "outputs": [
    {
     "name": "stdout",
     "output_type": "stream",
     "text": [
      "American pika\n",
      "Q469908\n"
     ]
    }
   ],
   "source": [
    "from bs4 import BeautifulSoup\n",
    "import requests\n",
    "import sys\n",
    "\n",
    "query = \"american pika\"\n",
    "\n",
    "getUrl= 'https://en.wikipedia.org/wiki/' + query\n",
    "url = getUrl\n",
    "#print(url)\n",
    "content = requests.get(url).content\n",
    "soup = BeautifulSoup(content,'lxml')\n",
    "#extracting page title\n",
    "firstHeading = soup.find('h1',{'class' : 'firstHeading'})\n",
    "\n",
    "if \"disambiguation\" in firstHeading.text:\n",
    "    print(\"Disambiguation\")\n",
    "else: \n",
    "    \n",
    "    QNumber = soup.find('li', {'id' : 't-wikibase'})\n",
    "    if QNumber is not None:\n",
    "        print(firstHeading.text)\n",
    "        #print(QNumber)\n",
    "        q = QNumber.a['href'].rsplit('/')[-1]\n",
    "        print(q)\n",
    "    else:\n",
    "        print(\"Nothing found\")\n",
    "        "
   ]
  },
  {
   "cell_type": "code",
   "execution_count": 41,
   "metadata": {},
   "outputs": [],
   "source": [
    "from wikidata.client import Client\n",
    "client = Client()"
   ]
  },
  {
   "cell_type": "code",
   "execution_count": 57,
   "metadata": {},
   "outputs": [
    {
     "name": "stdout",
     "output_type": "stream",
     "text": [
      "species of mammal\n"
     ]
    },
    {
     "ename": "AttributeError",
     "evalue": "'Entity' object has no attribute 'taxon_name'",
     "output_type": "error",
     "traceback": [
      "\u001b[0;31m---------------------------------------------------------------------------\u001b[0m",
      "\u001b[0;31mAttributeError\u001b[0m                            Traceback (most recent call last)",
      "\u001b[0;32m<ipython-input-57-ddd325fdfaa5>\u001b[0m in \u001b[0;36m<module>\u001b[0;34m\u001b[0m\n\u001b[1;32m      2\u001b[0m \u001b[0;34m\u001b[0m\u001b[0m\n\u001b[1;32m      3\u001b[0m \u001b[0mprint\u001b[0m\u001b[0;34m(\u001b[0m\u001b[0mentity\u001b[0m\u001b[0;34m.\u001b[0m\u001b[0mdescription\u001b[0m\u001b[0;34m)\u001b[0m\u001b[0;34m\u001b[0m\u001b[0;34m\u001b[0m\u001b[0m\n\u001b[0;32m----> 4\u001b[0;31m \u001b[0mprint\u001b[0m\u001b[0;34m(\u001b[0m\u001b[0mentity\u001b[0m\u001b[0;34m.\u001b[0m\u001b[0mtaxon_name\u001b[0m\u001b[0;34m)\u001b[0m\u001b[0;34m\u001b[0m\u001b[0;34m\u001b[0m\u001b[0m\n\u001b[0m\u001b[1;32m      5\u001b[0m \u001b[0;34m\u001b[0m\u001b[0m\n\u001b[1;32m      6\u001b[0m \u001b[0;32mtry\u001b[0m\u001b[0;34m:\u001b[0m\u001b[0;34m\u001b[0m\u001b[0;34m\u001b[0m\u001b[0m\n",
      "\u001b[0;31mAttributeError\u001b[0m: 'Entity' object has no attribute 'taxon_name'"
     ]
    }
   ],
   "source": [
    "entity = client.get('Q469908')\n",
    "\n",
    "print(entity.description)\n",
    "print(entity.taxon_name)\n",
    "\n",
    "try:\n",
    "    image_prop = client.get('P18')\n",
    "    image = entity[image_prop]\n",
    "    print(image.image_url)\n",
    "except AttributeError:\n",
    "    print(\"Not found\")\n"
   ]
  },
  {
   "cell_type": "code",
   "execution_count": null,
   "metadata": {},
   "outputs": [],
   "source": []
  }
 ],
 "metadata": {
  "kernelspec": {
   "display_name": "Python 3",
   "language": "python",
   "name": "python3"
  },
  "language_info": {
   "codemirror_mode": {
    "name": "ipython",
    "version": 3
   },
   "file_extension": ".py",
   "mimetype": "text/x-python",
   "name": "python",
   "nbconvert_exporter": "python",
   "pygments_lexer": "ipython3",
   "version": "3.8.5"
  }
 },
 "nbformat": 4,
 "nbformat_minor": 4
}
