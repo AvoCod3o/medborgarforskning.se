{
 "cells": [
  {
   "cell_type": "code",
   "execution_count": 33,
   "metadata": {},
   "outputs": [
    {
     "name": "stdout",
     "output_type": "stream",
     "text": [
      "Uppsala universitet http://www.uu.se\n",
      "Lunds universitet http://www.lu.se\n",
      "Göteborgs universitet http://www.gu.se\n",
      "Stockholms universitet http://www.su.se\n",
      "Umeå universitet http://www.umu.se\n",
      "Linköpings universitet http://www.liu.se\n",
      "Karolinska institutet http://ki.se/\n",
      "Kungl. Tekniska högskolan http://www.kth.se/\n",
      "Chalmers tekniska högskola http://www.chalmers.se/\n",
      "Luleå tekniska universitet http://www.ltu.se\n",
      "Handelshögskolan i Stockholm http://www.hhs.se/sv/\n",
      "Sveriges lantbruksuniversitet http://www.slu.se\n",
      "Karlstads universitet http://www.kau.se/\n",
      "Linnéuniversitetet https://lnu.se/\n",
      "Örebro universitet http://www.oru.se/\n",
      "Mittuniversitetet http://www.miun.se/\n",
      "Malmö universitet https://www.mah.se/\n",
      "Blekinge tekniska högskola http://www.bth.se/\n",
      "Försvarshögskolan http://www.fhs.se/\n",
      "Gymnastik- och idrottshögskolan http://gih.se/\n",
      "Högskolan i Borås http://www.hb.se/\n",
      "Högskolan Dalarna http://www.du.se/\n",
      "Högskolan i Gävle http://www.hig.se\n",
      "Högskolan i Halmstad http://www.hh.se/index.html\n",
      "Högskolan Kristianstad http://www.hkr.se/\n",
      "Högskolan i Skövde http://www.his.se/\n",
      "Högskolan Väst http://www.hv.se/\n",
      "Mälardalens högskola http://www.mdh.se/\n",
      "Stiftelsen Högskolan i Jönköping http://www.ju.se\n",
      "Södertörns högskola http://www.sh.se\n",
      "Beckmans designhögskola http://www.beckmans.se/\n",
      "Konstfack http://www.konstfack.se\n",
      "Kungl. Konsthögskolan http://www.kkh.se/\n",
      "Kungl. Musikhögskolan i Stockholm http://www.kmh.se/\n",
      "Stockholms konstnärliga högskola http://www.uniarts.se/\n",
      "Ericastiftelsen http://www.ericastiftelsen.se/\n",
      "Ersta Sköndal Bräcke högskola http://www.esh.se/\n",
      "Högskolan Evidens http://www.evidens4u.se/\n",
      "Gammelkroppa skogsskola http://www.gammelkroppa.se/\n",
      "Johannelunds teologiska högskola http://www.johannelund.nu/\n",
      "Newmaninstitutet http://newman.se/\n",
      "Röda Korsets högskola http://www.rkh.se/\n",
      "Sophiahemmet högskola http://www.shh.se/\n",
      "Stockholms Musikpedagogiska Institut http://www.smi.se/\n",
      "Svenska institutet för kognitiv psykoterapi http://www.cbti.se/\n",
      "Skandinaviens akademi för psykoterapiutveckling http://sapu.se/\n",
      "Enskilda Högskolan Stockholm http://ths.se/\n",
      "Örebro teologiska högskola http://altutbildning.se/orebro-teologiska-hogskola/\n",
      "48\n"
     ]
    }
   ],
   "source": [
    "from bs4 import BeautifulSoup\n",
    "from xml.sax.saxutils import escape\n",
    "\n",
    "orgurldict = {}\n",
    "\n",
    "with open(\"swedishseatsoflearningURLs.txt\") as thefile:\n",
    "    lines = thefile.readlines()\n",
    "    for l in lines:\n",
    "        soup = BeautifulSoup(l, \"html.parser\")\n",
    "        for link in soup.find_all('a'):\n",
    "            #print(link.text)\n",
    "            #print(link.get('href'))\n",
    "            orgurldict[link.text] = link.get('href')\n",
    "\n",
    "for k, v in orgurldict.items():\n",
    "    print(k,v)\n",
    "    \n",
    "print(len(orgurldict))"
   ]
  },
  {
   "cell_type": "code",
   "execution_count": 37,
   "metadata": {},
   "outputs": [
    {
     "data": {
      "text/plain": [
       "16"
      ]
     },
     "execution_count": 37,
     "metadata": {},
     "output_type": "execute_result"
    }
   ],
   "source": [
    "xmloutputfile = open('../../organizations/fixtures/organizations.xml', 'w')\n",
    "xmloutputfile.write('''<?xml version=\"1.0\" encoding=\"utf-8\"?>''')\n",
    "xmloutputfile.write('''<django-objects>''')"
   ]
  },
  {
   "cell_type": "code",
   "execution_count": 38,
   "metadata": {},
   "outputs": [],
   "source": [
    "counter = 0\n",
    "for k, v in orgurldict.items():\n",
    "    xmloutputfile.write('''<object model=\"organizations.organization\" pk=\"''' + str(counter) + '''\">''')\n",
    "    xmloutputfile.write('''   <field name=\"name\" type=\"TextField\">''' + escape(k) + '''</field>\\n''')\n",
    "    xmloutputfile.write('''   <field name=\"website\" type=\"TextField\">''' + escape(v) + '''</field>\\n''')\n",
    "    #xmloutputfile.write('''</field>\\n''')\n",
    "    xmloutputfile.write('''</object>\\n''')\n",
    "    counter += 1\n"
   ]
  },
  {
   "cell_type": "code",
   "execution_count": 39,
   "metadata": {},
   "outputs": [],
   "source": [
    "xmloutputfile.write('''</django-objects>''')\n",
    "xmloutputfile.close()"
   ]
  },
  {
   "cell_type": "code",
   "execution_count": null,
   "metadata": {},
   "outputs": [],
   "source": []
  },
  {
   "cell_type": "code",
   "execution_count": null,
   "metadata": {},
   "outputs": [],
   "source": []
  }
 ],
 "metadata": {
  "kernelspec": {
   "display_name": "Python 3",
   "language": "python",
   "name": "python3"
  },
  "language_info": {
   "codemirror_mode": {
    "name": "ipython",
    "version": 3
   },
   "file_extension": ".py",
   "mimetype": "text/x-python",
   "name": "python",
   "nbconvert_exporter": "python",
   "pygments_lexer": "ipython3",
   "version": "3.8.5"
  }
 },
 "nbformat": 4,
 "nbformat_minor": 4
}
